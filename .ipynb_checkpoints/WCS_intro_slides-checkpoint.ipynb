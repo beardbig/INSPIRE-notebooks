{
 "cells": [
  {
   "cell_type": "markdown",
   "metadata": {
    "slideshow": {
     "slide_type": "slide"
    }
   },
   "source": [
    "Getting started with...\n",
    "\n",
    "# OGC WEB COVERAGE SERVICE (WCS)\n",
    "\n",
    "\n",
    "\n",
    "\n",
    "\n",
    "\n",
    "\n"
   ]
  },
  {
   "cell_type": "markdown",
   "metadata": {
    "slideshow": {
     "slide_type": "subslide"
    }
   },
   "source": [
    "<b>BUT</b> - before we start...\n",
    "\n",
    "* <h3>who is familiar with WMS?</h3>"
   ]
  },
  {
   "cell_type": "markdown",
   "metadata": {
    "slideshow": {
     "slide_type": "fragment"
    }
   },
   "source": [
    "* <h3>who knows WCS?</h3>"
   ]
  },
  {
   "cell_type": "markdown",
   "metadata": {
    "slideshow": {
     "slide_type": "fragment"
    }
   },
   "source": [
    "* <h3>who has already worked with WCS?</h3>"
   ]
  },
  {
   "cell_type": "markdown",
   "metadata": {
    "slideshow": {
     "slide_type": "slide"
    }
   },
   "source": [
    "The Web Coverage Service is defined by the Open Geospatial Consortium (OGC) (2012):\n",
    "\n",
    "*<h2 align=\"center\"><b> The OGC WCS supports electronic retrieval of geospatial data as 'coverages' -  <br> that is, digital geospatial information representing space/time varying phenomena</b></h2>*\n",
    "\n",
    "<br>\n",
    "\n",
    "<p align=\"center\">Therefore, WCS is a standard data -access protocol that defines and enables web-based retrieval of multi-dimensional geospatial datasets.</p>\n"
   ]
  },
  {
   "cell_type": "markdown",
   "metadata": {
    "slideshow": {
     "slide_type": "subslide"
    }
   },
   "source": [
    "Let's picture WCS within in the common OGC web service suite...\n",
    "\n",
    "<br>\n",
    "\n",
    "![Overview OGC web service suite](./img/ogc_webservice_suite_0.jpg)"
   ]
  },
  {
   "cell_type": "markdown",
   "metadata": {
    "slideshow": {
     "slide_type": "subslide"
    }
   },
   "source": [
    "![Overview OGC web service suite](./img/ogc_webservice_suite_4.jpg)"
   ]
  },
  {
   "cell_type": "markdown",
   "metadata": {
    "slideshow": {
     "slide_type": "subslide"
    }
   },
   "source": [
    "![Overview OGC web service suite](./img/ogc_webservice_suite.jpg)"
   ]
  },
  {
   "cell_type": "markdown",
   "metadata": {
    "slideshow": {
     "slide_type": "slide"
    }
   },
   "source": [
    "*<h2 align=\"center\"><b> Unlike Web Mapping Service (WMS), which returns spatial data as an image, WCS returns data in its raw form, with its original semantics.</b></h2>*\n",
    "\n",
    "<br>\n",
    "This allows for further web-based data processing or the building of web applications."
   ]
  },
  {
   "cell_type": "markdown",
   "metadata": {
    "slideshow": {
     "slide_type": "slide"
    }
   },
   "source": [
    "What about WC**P**S?\n",
    "\n",
    "*<h2 align=\"center\"><b> A Web Coverage Processing Service (WCPS) is an extension supported by the WCS 2.0 core specification and can optionally be implemented by a WCS server.</b></h2>*"
   ]
  },
  {
   "cell_type": "markdown",
   "metadata": {
    "slideshow": {
     "slide_type": "slide"
    }
   },
   "source": [
    "Enough theory... Let's see how it looks like in real...\n",
    "\n",
    "\n",
    " <h3 align=\"center\"><a href=\"./index.ipynb\">Go to workshop</a></h3>"
   ]
  }
 ],
 "metadata": {
  "celltoolbar": "Slideshow",
  "kernelspec": {
   "display_name": "Python 2",
   "language": "python",
   "name": "python2"
  },
  "language_info": {
   "codemirror_mode": {
    "name": "ipython",
    "version": 2
   },
   "file_extension": ".py",
   "mimetype": "text/x-python",
   "name": "python",
   "nbconvert_exporter": "python",
   "pygments_lexer": "ipython2",
   "version": "2.7.11"
  }
 },
 "nbformat": 4,
 "nbformat_minor": 0
}
