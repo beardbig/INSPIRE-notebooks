{
 "metadata": {
  "name": "",
  "signature": "sha256:9d23cd7bceb9487dd5f7cfd6debcd108916a1fa576cb3077b18a24e3ab7cd88a"
 },
 "nbformat": 3,
 "nbformat_minor": 0,
 "worksheets": []
}