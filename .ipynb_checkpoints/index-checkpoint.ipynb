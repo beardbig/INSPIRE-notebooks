{
 "cells": [
  {
   "cell_type": "markdown",
   "metadata": {
    "slideshow": {
     "slide_type": "-"
    }
   },
   "source": [
    "# ![EarthServer-2](img/es2_logo_small.jpg)"
   ]
  },
  {
   "cell_type": "markdown",
   "metadata": {
    "slideshow": {
     "slide_type": "slide"
    }
   },
   "source": [
    "# <center><h2>Improving access to big data <br>     through OGC standard interfaces</h2></center>"
   ]
  },
  {
   "cell_type": "markdown",
   "metadata": {
    "slideshow": {
     "slide_type": "slide"
    }
   },
   "source": [
    "## <center><h3>A hands-on WC(P)S session<h3></center>"
   ]
  },
  {
   "cell_type": "markdown",
   "metadata": {
    "slideshow": {
     "slide_type": "slide"
    }
   },
   "source": [
    "### <center><h4>Oliver Clements, Julia Wagemann, Simone Mantovani, Peter Baumann, <br> Ramiro Marco Figuera, Angelo Pio Rossi, Georgios Kakaletris and Ben Evans</h4></center>"
   ]
  },
  {
   "cell_type": "markdown",
   "metadata": {},
   "source": [
    "***"
   ]
  },
  {
   "cell_type": "markdown",
   "metadata": {
    "collapsed": false
   },
   "source": [
    "This workshop has been developed for the [INSPIRE Conference 2016](http://inspire.ec.europa.eu/events/conferences/inspire_2016/page/wsl).  \n",
    "It provides an overview of two standard data-access protocols and showcase how a Web Coverage Service can be of benefit for Europe's geospatial data landscape. Hands-on training will be provided, showing how data can be accessed, processed and retrieved via a WC(P)S. \n",
    "\n",
    "The workshop covers following topics:\n",
    "* Introduction to Web Coverage Service 2.0 and Web Coverage Processing Service 1.0\n",
    "* Request types of WCS and WCPS\n",
    "* data access, processing and retrieval\n",
    "* Integration of WC(P)S requests into processing routines or usage of WC(P)S to built custom web applications\n",
    "\n"
   ]
  },
  {
   "cell_type": "markdown",
   "metadata": {},
   "source": [
    "***"
   ]
  },
  {
   "cell_type": "markdown",
   "metadata": {},
   "source": [
    "## Workshop content"
   ]
  },
  {
   "cell_type": "markdown",
   "metadata": {},
   "source": [
    "The workshop consists of following notebooks:"
   ]
  },
  {
   "cell_type": "markdown",
   "metadata": {},
   "source": [
    "#### [01-Introduction to Web Coverage Service](./01-WCS_intro.ipynb)"
   ]
  },
  {
   "cell_type": "markdown",
   "metadata": {},
   "source": [
    "#### [02-Web Coverage Service and Python](./02-WCS_in_python.ipynb)"
   ]
  },
  {
   "cell_type": "markdown",
   "metadata": {},
   "source": [
    "#### [03-Web Coverage Service and R](./03-WCS_in_R.ipynb)"
   ]
  },
  {
   "cell_type": "markdown",
   "metadata": {},
   "source": [
    "#### [04-Web Coverage Service and QGIS](./04-WCS_in_qgis.ipynb)"
   ]
  },
  {
   "cell_type": "markdown",
   "metadata": {},
   "source": [
    "#### [05-Introduction to Web Coverage Processing Service](./05-WCPS_intro.ipynb)"
   ]
  },
  {
   "cell_type": "markdown",
   "metadata": {},
   "source": [
    "#### [06-Introduction to xWCPS](./06-xWCPS_intro.ipynb)"
   ]
  },
  {
   "cell_type": "markdown",
   "metadata": {},
   "source": [
    "#### [07-Ressources](./07-Ressources.ipynb)"
   ]
  },
  {
   "cell_type": "markdown",
   "metadata": {},
   "source": [
    "***"
   ]
  },
  {
   "cell_type": "code",
   "execution_count": null,
   "metadata": {
    "collapsed": true
   },
   "outputs": [],
   "source": []
  }
 ],
 "metadata": {
  "kernelspec": {
   "display_name": "Python 2",
   "language": "python",
   "name": "python2"
  },
  "language_info": {
   "codemirror_mode": {
    "name": "ipython",
    "version": 2
   },
   "file_extension": ".py",
   "mimetype": "text/x-python",
   "name": "python",
   "nbconvert_exporter": "python",
   "pygments_lexer": "ipython2",
   "version": "2.7.11"
  }
 },
 "nbformat": 4,
 "nbformat_minor": 0
}
