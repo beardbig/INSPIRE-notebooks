{
 "metadata": {
  "name": "",
  "signature": "sha256:0e0506f9e56368bfcb148a205fb19cd5c0c51d2bd6069015c20dd37784496184"
 },
 "nbformat": 3,
 "nbformat_minor": 0,
 "worksheets": [
  {
   "cells": [
    {
     "cell_type": "heading",
     "level": 1,
     "metadata": {},
     "source": [
      "04-WCS in QGIS"
     ]
    },
    {
     "cell_type": "markdown",
     "metadata": {},
     "source": [
      "<a href=\"./03-WCS_in_R.ipynb\"><< 03-WCS in R </a>&nbsp;<space>&nbsp;<space>&nbsp;<space>&nbsp;<space>&nbsp;<space>&nbsp;<space>&nbsp;<space>&nbsp;<space>&nbsp;<space>&nbsp;<space> <a href=\"./05-WCPS_intro.ipynb\">05-Introduction to WCPS >></a>"
     ]
    },
    {
     "cell_type": "code",
     "collapsed": false,
     "input": [],
     "language": "python",
     "metadata": {},
     "outputs": []
    }
   ],
   "metadata": {}
  }
 ]
}