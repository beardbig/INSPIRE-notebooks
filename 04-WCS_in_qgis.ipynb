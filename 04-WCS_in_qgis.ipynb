{
 "cells": [
  {
   "cell_type": "markdown",
   "metadata": {},
   "source": [
    "# 04-WCS and QGIS"
   ]
  },
  {
   "cell_type": "markdown",
   "metadata": {},
   "source": [
    "<a href=\"./03-WCS_in_R.ipynb\"><< 03-WCS in R </a>&nbsp;<space>&nbsp;<space>&nbsp;<space>&nbsp;<space>&nbsp;<space>&nbsp;<space>&nbsp;<space>&nbsp;<space>&nbsp;<space>&nbsp;<space> <a href=\"./05-WCPS_intro.ipynb\">05-Introduction to WCPS >></a>"
   ]
  },
  {
   "cell_type": "markdown",
   "metadata": {
    "collapsed": false
   },
   "source": [
    "[QGIS](http://www.qgis.org/en/site/) is a poplular open-source desktop-based Geographical Information System that bases on the collaboration and development of people within the geospatial data community. Based on individual plugins, QGIS can be enriched with a wide range of additional functionalities.  \n",
    "\n",
    "Per default, QGIS can be used as a WCS 1.1.1.1 compliant data server. ECMWF's WCS server is compliant to WCS 2.0 and gladly, there is a QGIS plugin that can be installed to be also compliant to WCS 2.0.\n",
    "Thapaliya & Misev (2014) built the [QgsWcpsClient1](https://plugins.qgis.org/plugins/QgsWcpsClient1/) plugin, which allows to connect to a OGC WC(P)S server and to execute a WCPS query for direct import to QGIS. Figure below shows an example of a WCPS query executed in QGIS to retrieve sea surface temperature data from ECMWF for 31 December 2001."
   ]
  },
  {
   "cell_type": "markdown",
   "metadata": {},
   "source": [
    "<img src=\"img/qgis_workflow.png\" width=\"800\">\n",
    "<center><i>The QGIS desktop application and a simple three step approach to request data via a WCPS query: (1) install and load the [QgsWcpsClient1](https://plugins.qgis.org/plugins/QgsWcpsClient1/) plugin, (2) connect to a WCS server endpoint and (3) request data with a WCPS query.</i></center>"
   ]
  },
  {
   "cell_type": "markdown",
   "metadata": {},
   "source": [
    "A connection can be made either to ECMWF's service endpoint or to any other WCS 2.0 server. Further service endpoints are:  \n",
    "* Planetserver: http://access.planetserver.eu:8080/rasdaman/ows\n",
    "* EO Data Service: http://eodataservice.org/rasdaman/ows\n",
    "* Marine Data Service: http://earthserver.pml.ac.uk/rasdaman/ows\n",
    "\n",
    "Once the connection is established, data on the server can be accessed via a WCPS query. Figure below shows (1) data from the Plymouth Marine Laboratory, the the marine science data provider of EarthServer-2 and (2) ERA-interim sea surface temperature from ECMWF."
   ]
  },
  {
   "cell_type": "markdown",
   "metadata": {},
   "source": [
    "<img src=\"img/qgis_data.png\" width=\"800\">\n",
    "<center><i>Two examples of a coverage requested and retrieved via a WCPS query and visualized on-the-fly with QGIS: (1) from Plymouth Marine Laboratory's web service and (2) from ECMWF's webservice. (1) shows the ocean colour from ESA's Climate Change Initiative for 31 December 2001. (2) shows the ERA-interim sea surface temperature for 31 December 2010.</i></center>"
   ]
  },
  {
   "cell_type": "markdown",
   "metadata": {},
   "source": [
    "WCPS queries can do complex calculations on-the-fly. Figure below shows two examples, how a false-colour composite of the planet MARS and a calculated NDVI from the Landsat8 satellite can be loaded on-the-fly into QGIS for further processing."
   ]
  },
  {
   "cell_type": "markdown",
   "metadata": {},
   "source": [
    "<img src=\"img/qgis_data2.jpg\" width=\"800\">\n",
    "<center><i>Two examples of a coverage requested and retrieved via a WCPS query and visualized on-the-fly with QGIS: top: False color composition for a CRISM L observation image from Planetserver and bottom: a calculate NDVI from a Landsat 8 satellite image from the EO Data Service."
   ]
  },
  {
   "cell_type": "markdown",
   "metadata": {},
   "source": [
    "***"
   ]
  },
  {
   "cell_type": "code",
   "execution_count": null,
   "metadata": {
    "collapsed": true
   },
   "outputs": [],
   "source": []
  }
 ],
 "metadata": {
  "kernelspec": {
   "display_name": "Python 2",
   "language": "python",
   "name": "python2"
  },
  "language_info": {
   "codemirror_mode": {
    "name": "ipython",
    "version": 2
   },
   "file_extension": ".py",
   "mimetype": "text/x-python",
   "name": "python",
   "nbconvert_exporter": "python",
   "pygments_lexer": "ipython2",
   "version": "2.7.11"
  }
 },
 "nbformat": 4,
 "nbformat_minor": 0
}
