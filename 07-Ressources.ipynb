{
 "cells": [
  {
   "cell_type": "markdown",
   "metadata": {},
   "source": [
    "<img style=\"float: right;\" src=\"./img/es2_logo_tiny.jpg\"></img>"
   ]
  },
  {
   "cell_type": "markdown",
   "metadata": {},
   "source": [
    "# 07-Ressources"
   ]
  },
  {
   "cell_type": "markdown",
   "metadata": {},
   "source": [
    "<a href=\"./06-Intro_to_xWCPS.ipynb\"><< 06-Introduction to xWCPS </a>&nbsp;<space>&nbsp;<space>&nbsp;<space>&nbsp;<space>&nbsp;<space>&nbsp;<space>&nbsp;<space>&nbsp;<space>&nbsp;<space>&nbsp;<space> <a href=\"./index.ipynb\">Index >></a>"
   ]
  },
  {
   "cell_type": "markdown",
   "metadata": {},
   "source": [
    "Subsequently, we compiled a list of useful ressources to get started with WCS 2.0 and WCPS 1.0. You further find available WCS server endpoints listed and an overview of the data available via the servers."
   ]
  },
  {
   "cell_type": "markdown",
   "metadata": {},
   "source": [
    "* WCS server endpoints\n",
    "* [Data overview](#data_overview)\n",
    "  * [PlanetServer](#planetserver_data)\n",
    "  * [EO Data Server](#eo_data)\n",
    "  * [Marine Science Data Server](#marine_data)\n",
    "  * [Climate Science Data Server](#climate_data)\n",
    "* [Further Ressources](#ressources)"
   ]
  },
  {
   "cell_type": "markdown",
   "metadata": {},
   "source": [
    "***"
   ]
  },
  {
   "cell_type": "markdown",
   "metadata": {},
   "source": [
    "## WCS server endpoints"
   ]
  },
  {
   "cell_type": "markdown",
   "metadata": {},
   "source": [
    "* <b>PlanetServer: http://access.planetserver.eu:8080/rasdaman/ows </b>  \n",
    "* <b>EO Data Service: http://eodataservice.org/rasdaman/ows </b>  \n",
    "* <b>Marine Science Data Server: http://earthserver.pml.ac.uk/rasdaman/ows </b>  \n",
    "* <b>Climate Science Data Server: http://earthserver.ecmwf.int/rasdaman/ows </b>\n"
   ]
  },
  {
   "cell_type": "markdown",
   "metadata": {},
   "source": [
    "***"
   ]
  },
  {
   "cell_type": "markdown",
   "metadata": {},
   "source": [
    "## <a id='#data_overview'></a><font color=\"black\">Data overview</font>"
   ]
  },
  {
   "cell_type": "markdown",
   "metadata": {},
   "source": [
    "### <a id='#planetserver_data'></a><font color=\"black\">PlanetServer</font>"
   ]
  },
  {
   "cell_type": "code",
   "execution_count": null,
   "metadata": {
    "collapsed": true
   },
   "outputs": [],
   "source": []
  },
  {
   "cell_type": "markdown",
   "metadata": {},
   "source": [
    "***"
   ]
  },
  {
   "cell_type": "markdown",
   "metadata": {},
   "source": [
    "### <a id='#eo_data'></a><font color=\"black\">EO Data Server</font>"
   ]
  },
  {
   "cell_type": "code",
   "execution_count": null,
   "metadata": {
    "collapsed": true
   },
   "outputs": [],
   "source": []
  },
  {
   "cell_type": "markdown",
   "metadata": {},
   "source": [
    "*** "
   ]
  },
  {
   "cell_type": "markdown",
   "metadata": {},
   "source": [
    "### <a id='marine_data'></a><font color=\"black\">Marine Science Data Server</font>"
   ]
  },
  {
   "cell_type": "code",
   "execution_count": null,
   "metadata": {
    "collapsed": true
   },
   "outputs": [],
   "source": []
  },
  {
   "cell_type": "markdown",
   "metadata": {},
   "source": [
    "*** "
   ]
  },
  {
   "cell_type": "markdown",
   "metadata": {},
   "source": [
    "### <a id='climate_data'></a><font color=\"black\">Climate Science Data Server</font>"
   ]
  },
  {
   "cell_type": "markdown",
   "metadata": {},
   "source": [
    "<b><a style=\"font-size: 120%\"> ERA-INTERIM RIVER DISCHARGE DATA </a></b>"
   ]
  },
  {
   "cell_type": "markdown",
   "metadata": {},
   "source": [
    "#### Surface level parameter"
   ]
  },
  {
   "cell_type": "markdown",
   "metadata": {},
   "source": [
    "| Parameter | Coverage name on the server | Time period covered | Spatial resolution | Temporal resolution | Data volume |\n",
    "|------------------------|----------------|------------------|-----------------|-----------------------|-------------|\n",
    "|2 m air temperature|temp2m| 1 January 1979 - 31 December 2015| Global (0.5x0.5 deg)|6-hourly|27 GB|\n",
    "|Sea surface temperature|SST| 1 January 1979 - 31 December 2015| Global (0.5x0.5 deg)|6-hourly|20 GB|\n",
    "|Mean sea level pressure|mslp| 1 January 1979 - 31 December 2015| Global (0.5x0.5 deg)|6-hourly|27 GB|\n",
    "|Volumetric soil moisture|soil_moisture| 1 January 1979 - 31 December 2015| Global (0.5x0.5 deg)|6-hourly|27 GB|"
   ]
  },
  {
   "cell_type": "markdown",
   "metadata": {},
   "source": [
    "#### Accumulated forecast"
   ]
  },
  {
   "cell_type": "markdown",
   "metadata": {},
   "source": [
    "| Parameter | Coverage name on the server | Time period covered | Spatial resolution | Temporal resolution | Data volume |\n",
    "|------------------------|----------------|------------------|-----------------|-----------------------|-------------|\n",
    "|Total precipitation|precipitation| 2 January 1979 - 31 December 2015| Global (0.5x0.5 deg)|6-hourly|27 GB|"
   ]
  },
  {
   "cell_type": "markdown",
   "metadata": {},
   "source": [
    "#### Pressure level (500 / 850 / 1000 hPa)"
   ]
  },
  {
   "cell_type": "markdown",
   "metadata": {},
   "source": [
    "| Parameter | Coverage name on the server | Time period covered | Spatial resolution | Temporal resolution | Data volume |\n",
    "|------------------------|----------------|------------------|-----------------|-----------------------|-------------|\n",
    "|Geopotential height|pl_geopot| 1 January 1979 - 31 December 2015| Global (0.5x0.5 deg)|6-hourly|79 GB|\n",
    "|Temperature|pl_t2m| 1 January 1979 - 31 December 2015| Global (0.5x0.5 deg)|6-hourly|79 GB|\n",
    "|Relative humidity|pl_relhum| 1 January 1979 - 31 December 2015| Global (0.5x0.5 deg)|6-hourly|79 GB|"
   ]
  },
  {
   "cell_type": "markdown",
   "metadata": {},
   "source": [
    "  "
   ]
  },
  {
   "cell_type": "markdown",
   "metadata": {},
   "source": [
    "<b><a style=\"font-size: 120%\"> GLOFAS RIVER DISCHARGE FORECAST DATA </a></b>"
   ]
  },
  {
   "cell_type": "markdown",
   "metadata": {},
   "source": [
    "| Parameter | Coverage name on the server | Time period covered | Spatial resolution | Temporal resolution | Data volume |\n",
    "|------------------------|----------------|------------------|-----------------|-----------------------|-------------|\n",
    "|River discharge forecast|river_discharge_forecast_opt2| 8 April 2008 | Global (0.1x0.1 deg)|daily|31 GB|\n",
    "|Return level discharge|return_level2, return_level5, return_level20| | Global (0.1x0.1 deg)|1 coverage per return level period|0.6 GB|\n",
    "|ERA-interim discharge data|ERA_discharge| 1 January 1981 - 31 December 1989| Global (0.1x0.1 deg)|daily|81 GB|"
   ]
  },
  {
   "cell_type": "markdown",
   "metadata": {},
   "source": [
    "***"
   ]
  },
  {
   "cell_type": "markdown",
   "metadata": {},
   "source": [
    "## <a id='#further_ressources'></a><font color=\"black\">Further Ressources</font>"
   ]
  },
  {
   "cell_type": "code",
   "execution_count": null,
   "metadata": {
    "collapsed": true
   },
   "outputs": [],
   "source": []
  },
  {
   "cell_type": "code",
   "execution_count": null,
   "metadata": {
    "collapsed": true
   },
   "outputs": [],
   "source": []
  },
  {
   "cell_type": "markdown",
   "metadata": {},
   "source": [
    "<a rel=\"license\" href=\"http://creativecommons.org/licenses/by-nc/4.0/\"><img style=\"float: right;\" alt=\"Creative Commons License\" style=\"border-width:0\" src=\"https://i.creativecommons.org/l/by-nc/4.0/88x31.png\" /></a>"
   ]
  }
 ],
 "metadata": {
  "kernelspec": {
   "display_name": "Python 2",
   "language": "python",
   "name": "python2"
  },
  "language_info": {
   "codemirror_mode": {
    "name": "ipython",
    "version": 2
   },
   "file_extension": ".py",
   "mimetype": "text/x-python",
   "name": "python",
   "nbconvert_exporter": "python",
   "pygments_lexer": "ipython2",
   "version": "2.7.8"
  }
 },
 "nbformat": 4,
 "nbformat_minor": 0
}
