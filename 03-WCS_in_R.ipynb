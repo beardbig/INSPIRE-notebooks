{
 "metadata": {
  "name": "",
  "signature": "sha256:40dd2b14c5c337a21a772909f1c3ce8cd60c29e0a5d9178dc4984ce60101a313"
 },
 "nbformat": 3,
 "nbformat_minor": 0,
 "worksheets": [
  {
   "cells": [
    {
     "cell_type": "heading",
     "level": 1,
     "metadata": {},
     "source": [
      "03-WCS in R"
     ]
    },
    {
     "cell_type": "markdown",
     "metadata": {},
     "source": [
      "<a href=\"./02-WCS_in_python.ipynb\"><< 02-WCS in Python </a>&nbsp;<space>&nbsp;<space>&nbsp;<space>&nbsp;<space>&nbsp;<space>&nbsp;<space>&nbsp;<space>&nbsp;<space>&nbsp;<space>&nbsp;<space> <a href=\"./04-WCS_in_qgis.ipynb\">04-WCS in QGIS >></a>"
     ]
    },
    {
     "cell_type": "code",
     "collapsed": false,
     "input": [],
     "language": "python",
     "metadata": {},
     "outputs": []
    }
   ],
   "metadata": {}
  }
 ]
}