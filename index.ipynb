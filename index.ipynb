{
 "metadata": {
  "name": "",
  "signature": "sha256:d95b5ddbcc67d34bd7700596ef2a2e60f5b0617da245924bee427a713dd97a51"
 },
 "nbformat": 3,
 "nbformat_minor": 0,
 "worksheets": [
  {
   "cells": [
    {
     "cell_type": "heading",
     "level": 1,
     "metadata": {},
     "source": [
      "![EarthServer-2](img/es2_logo_small.jpg)"
     ]
    },
    {
     "cell_type": "heading",
     "level": 1,
     "metadata": {},
     "source": [
      "<center><h2>Improving access to big data <br>\n",
      "    through OGC standard interfaces</h2></center>"
     ]
    },
    {
     "cell_type": "heading",
     "level": 2,
     "metadata": {},
     "source": [
      "<center><h3>A hands-on WC(P)S session<h3></center>"
     ]
    },
    {
     "cell_type": "heading",
     "level": 3,
     "metadata": {},
     "source": [
      "<center><h4>Oliver Clements, Julia Wagemann, Simone Mantovani, Peter Baumann, <br> Ramiro Marco Figuera, Angelo Pio Rossi, Georgios Kakaletris and Ben Evans</h4></center>"
     ]
    },
    {
     "cell_type": "markdown",
     "metadata": {},
     "source": [
      "***"
     ]
    },
    {
     "cell_type": "code",
     "collapsed": false,
     "input": [],
     "language": "python",
     "metadata": {},
     "outputs": []
    }
   ],
   "metadata": {}
  }
 ]
}