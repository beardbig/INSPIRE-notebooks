{
 "metadata": {
  "name": "",
  "signature": "sha256:22a07cfff545d2bc5611426d7537935958637c7a878cd19b2e794ceac2d1bf3e"
 },
 "nbformat": 3,
 "nbformat_minor": 0,
 "worksheets": [
  {
   "cells": [
    {
     "cell_type": "heading",
     "level": 1,
     "metadata": {},
     "source": [
      "01-Introduction to Web Coverage Service (WCS)"
     ]
    },
    {
     "cell_type": "markdown",
     "metadata": {},
     "source": [
      "<a href=\"./index.ipynb\"><< Index </a>&nbsp;<space>&nbsp;<space>&nbsp;<space>&nbsp;<space>&nbsp;<space>&nbsp;<space>&nbsp;<space>&nbsp;<space>&nbsp;<space>&nbsp;<space> <a href=\"./02-WCS_in_python.ipynb\">02-WCS in Python >></a>"
     ]
    },
    {
     "cell_type": "heading",
     "level": 2,
     "metadata": {},
     "source": [
      "Basic Web Coverage Service (WCS) request setup"
     ]
    },
    {
     "cell_type": "markdown",
     "metadata": {},
     "source": [
      "A WCS request can be divided into three main components: \n",
      "  * Service endpoint, \n",
      "  * request type and \n",
      "  * optional parameters  \n",
      "\n",
      "All components are concatenated with a *\"&\"* into one single URL. "
     ]
    },
    {
     "cell_type": "heading",
     "level": 3,
     "metadata": {},
     "source": [
      "Example of a manual WCS request setup"
     ]
    },
    {
     "cell_type": "markdown",
     "metadata": {},
     "source": [
      "> **Service endpoint:** <a href=\"http://earthserver.ecmwf.int/rasdaman/ows?\" target=\"_blank\">http://earthserver.ecmwf.int/rasdaman/ows?</a>  \n",
      "> **Service and version specification:** <font color=\"blue\">service=WCS&version=2.0.1&</font>"
     ]
    },
    {
     "cell_type": "markdown",
     "metadata": {},
     "source": [
      "> **Request type:**  \n",
      "There are three core request types. A \"&\" indicates that the request requires an optional add-on. Therefore, *DescribeCoverage* and *GetCoverage* requests require further specifications.\n",
      "- [<font color=\"blue\">GetCapabilities</font>](#get_capabilities)\n",
      "- [<font color=\"blue\">DescribeCoverage&</font>](#describe_coverage)\n",
      "- [<font color=\"blue\">GetCoverage&</font>](#get_coverage)"
     ]
    },
    {
     "cell_type": "markdown",
     "metadata": {},
     "source": [
      "> ***Optional* parameters:**  \n",
      "- **DescribeCoverage:**  <font color=\"blue\"><b>&coverageId=</b><i>coverageId</i></font>\n",
      "- **GetCoverage:**  \n",
      "  - <font color=\"blue\"><b>&coverageId=</b><i>coverageId</i></font>\n",
      "  - <font color=\"blue\"><b>&subset=</b><i>axisSubset1</i>&subset=<i>axisSubset2</i>...</font>  \n",
      "With the add-on **&subset** a coverage axis can be subsetted. For every subsetting operation a subset request has to be concatenated. If you want to do e.g. a temporal (time axis) and spatial subset (latitude and longitude axes), you have to concatenate three subset requests. If no **&subset** is specified, the entire coverage is requested, which can be multiple GBs of data</p>  \n",
      "  - <font color=\"blue\"><b>&format=</b><i>formatSupported</i></font>  \n",
      "With the add-on **&format** a custom format can be specified. The supported formats are specified in the ***GetCapabilites document***. The default format is application/gml+xml. If the format parameter is not specified, the result is returned in a xml file. \n",
      "  Following formats are currently supported by OGC WCS 2.0.1:  \n",
      " \n",
      "  >> * **netCDF:** applications/netcdf\n",
      "* **JPEG2000:** image/jp2\n",
      "* **GeoTIFF:** image/tiff\n",
      "* **XML:** application/gml+xml\n",
      "* **PNG:** image/png\n",
      "\n"
     ]
    },
    {
     "cell_type": "markdown",
     "metadata": {},
     "source": [
      "***"
     ]
    },
    {
     "cell_type": "markdown",
     "metadata": {},
     "source": [
      "The following sections show how the concatenated strings per request will look like.   \n",
      "Examples base on ERA-interim 2m air temperature global fields, 6-hourly values from 1 January 1979 to 31 December 2015."
     ]
    },
    {
     "cell_type": "heading",
     "level": 2,
     "metadata": {},
     "source": [
      "<a id='get_capabilities'></a><font color=\"black\"><i>GetCapabilites</i> request</font>"
     ]
    },
    {
     "cell_type": "markdown",
     "metadata": {},
     "source": [
      "<a href=\"http://earthserver.ecmwf.int/rasdaman/ows?service=WCS&version=2.0.1&request=GetCapabilities\" target=\"_blank\">http://earthserver.ecmwf.int/rasdaman/ows?service=WCS&version=2.0.1&request=GetCapabilities</a>"
     ]
    },
    {
     "cell_type": "markdown",
     "metadata": {},
     "source": [
      "The ***GetCapabilities*** request returns the ***Capabilities document***, which is a XML-document that gives general information to the Web Coverage Service Server. If you use the WCS Server for the first time, the GetCapabilities documents is helpful to see what the service offers.  \n",
      "\n",
      "The XML tree contains following child elements:\n",
      "* **Service Identification**: General information about the Web Coverage Service and WCS profiles it supports\n",
      "* **Service Provider**: Name and contact details about the service and data provider\n",
      "* **OperationsMetadata**: Supported WCS operations of the service\n",
      "* **ServiceMetadata**: Supported format encodings and interpolations methods of the service\n",
      "* **Contents**: Available data sets of the service\n",
      "\n"
     ]
    },
    {
     "cell_type": "markdown",
     "metadata": {},
     "source": [
      "  "
     ]
    },
    {
     "cell_type": "code",
     "collapsed": false,
     "input": [
      "%%html\n",
      "<iframe width=\"1000\" height=\"400\" src='http://earthserver.ecmwf.int/rasdaman/ows?service=WCS&version=2.0.1&request=GetCapabilities'></iframe>"
     ],
     "language": "python",
     "metadata": {},
     "outputs": [
      {
       "html": [
        "<iframe width=\"1000\" height=\"400\" src='http://earthserver.ecmwf.int/rasdaman/ows?service=WCS&version=2.0.1&request=GetCapabilities'></iframe>"
       ],
       "metadata": {},
       "output_type": "display_data",
       "text": [
        "<IPython.core.display.HTML at 0x7f87804467d0>"
       ]
      }
     ],
     "prompt_number": 4
    },
    {
     "cell_type": "markdown",
     "metadata": {},
     "source": [
      "***"
     ]
    },
    {
     "cell_type": "heading",
     "level": 2,
     "metadata": {},
     "source": [
      "<a id='describe_coverage'></a><font color=\"black\"><i>DescribeCoverage</i> request</font>"
     ]
    },
    {
     "cell_type": "markdown",
     "metadata": {},
     "source": [
      "<a href=\"http://earthserver.ecmwf.int/rasdaman/ows?service=WCS&version=2.0.1&request=DescribeCoverage&coverageId=temp2m\" target=\"_blank\">http://earthserver.ecmwf.int/rasdaman/ows?service=WCS&version=2.0.1&request=DescribeCoverage&coverageId=temp2m</a>"
     ]
    },
    {
     "cell_type": "markdown",
     "metadata": {},
     "source": [
      "The ***DescribeCoverage*** request returns a ***CoverageDescription*** document, that contains the metadata of a dataset encoded in XML.  \n",
      "\n",
      "The example below shows the metadata of the coverage \"temp2m\", which is ERA-interim 2m air temperature. Important XML tree child elements are:\n",
      "* **boundedBy**: this shows you the dimension of the coverage (number and name of axes as well as their dimensions)\n",
      "* **domainSet**: this shows you the resolution of each axis. In the example, the spatial resolution is 0.5 deg (~50 km) and the temporal resolution is a quarter of a day, meaning 6 hours."
     ]
    },
    {
     "cell_type": "code",
     "collapsed": false,
     "input": [
      "%%html\n",
      "<iframe width=\"1000\" height=\"400\" src='http://earthserver.ecmwf.int/rasdaman/ows?service=WCS&version=2.0.1&request=DescribeCoverage&coverageId=temp2m'></iframe>"
     ],
     "language": "python",
     "metadata": {},
     "outputs": [
      {
       "html": [
        "<iframe width=\"1000\" height=\"400\" src='http://earthserver.ecmwf.int/rasdaman/ows?service=WCS&version=2.0.1&request=DescribeCoverage&coverageId=temp2m'></iframe>"
       ],
       "metadata": {},
       "output_type": "display_data",
       "text": [
        "<IPython.core.display.HTML at 0x7f8780cb5350>"
       ]
      }
     ],
     "prompt_number": 6
    },
    {
     "cell_type": "markdown",
     "metadata": {},
     "source": [
      "***"
     ]
    },
    {
     "cell_type": "heading",
     "level": 2,
     "metadata": {},
     "source": [
      "<a id='get_coverage'></a><font color=\"black\"><i>GetCoverage</i> request</font>"
     ]
    },
    {
     "cell_type": "markdown",
     "metadata": {},
     "source": [
      "The ***GetCoverage*** operation requests the actual spatial data. The power of the GetCoverage request is the ability to subset domains (spatial and temporal) and to encode the output in different formats. All examples will take 2m air temperature as example coverage."
     ]
    },
    {
     "cell_type": "heading",
     "level": 3,
     "metadata": {},
     "source": [
      "Slice ooperation (dimension reduction)"
     ]
    },
    {
     "cell_type": "markdown",
     "metadata": {},
     "source": [
      "With the subset parameter, the dimensionality of the coverage can be reduced. From a multi-dimensional data cube, a **time series of a specific latitude/longitude grid point** or a **2D field for one specific time** can be retrieved. Examples are provided below.\n",
      "\n",
      "By default, the data is returned in a XML file. The XML tree child element **rangeSet**  contains the actual data.\n",
      "\n",
      "- Retrieve the **2m  air temperature time series** for every time step for the location Reading, UK. (Reduction from 3D to 1D)  \n",
      "\n",
      "<a href=\"http://earthserver.ecmwf.int/rasdaman/ows?service=WCS&version=2.0.1&request=GetCoverage&coverageId=temp2m&subset=Lat(51.0)&subset=Long(-1.0)&format=application/gml+xml\" target=\"_blank\">http://earthserver.ecmwf.int/rasdaman/ows?service=WCS&version=2.0.1&request=GetCoverage&coverageId=temp2m&subset=Lat(51.0)&subset=Long(-1.0)&format=application/gml+xml</a>\n"
     ]
    },
    {
     "cell_type": "code",
     "collapsed": false,
     "input": [
      "%%html\n",
      "<iframe width=\"1000\" height=\"400\" src='http://earthserver.ecmwf.int/rasdaman/ows?service=WCS&version=2.0.1&request=GetCoverage&coverageId=temp2m&subset=Lat(51.0)&subset=Long(-1.0)&format=application/gml+xml'></iframe>"
     ],
     "language": "python",
     "metadata": {},
     "outputs": [
      {
       "html": [
        "<iframe width=\"1000\" height=\"400\" src='http://earthserver.ecmwf.int/rasdaman/ows?service=WCS&version=2.0.1&request=GetCoverage&coverageId=temp2m&subset=Lat(51.0)&subset=Long(-1.0)&format=application/gml+xml'></iframe>"
       ],
       "metadata": {},
       "output_type": "display_data",
       "text": [
        "<IPython.core.display.HTML at 0x7f87804566d0>"
       ]
      }
     ],
     "prompt_number": 8
    },
    {
     "cell_type": "markdown",
     "metadata": {},
     "source": [
      "***\n",
      "\n",
      "- Retrieve the **global field of 2m  air temperature** for 6 July 2010 at 00 UTC encoded as XML (default). (Reduction from 3D to 2D) \n",
      "\n",
      "<a href='http://earthserver.ecmwf.int/rasdaman/ows?service=WCS&version=2.0.1&request=GetCoverage&coverageId=temp2m&subset=ansi(\"2010-07-06T00:00\")&format=application/gml+xml' target=\"_blank\">http://earthserver.ecmwf.int/rasdaman/ows?service=WCS&version=2.0.1&request=GetCoverage&coverageId=temp2m&subset=ansi(\"2010-07-06T00:00\")&format=application/gml+xml</a>"
     ]
    },
    {
     "cell_type": "code",
     "collapsed": false,
     "input": [
      "%%html\n",
      "<iframe width=\"1000\" height=\"400\" src='http://earthserver.ecmwf.int/rasdaman/ows?service=WCS&version=2.0.1&request=GetCoverage&coverageId=temp2m&subset=ansi(\"2010-07-06T00:00\")&format=application/gml+xml'></iframe>"
     ],
     "language": "python",
     "metadata": {},
     "outputs": [
      {
       "html": [
        "<iframe width=\"1000\" height=\"400\" src='http://earthserver.ecmwf.int/rasdaman/ows?service=WCS&version=2.0.1&request=GetCoverage&coverageId=temp2m&subset=ansi(\"2010-07-06T00:00\")&format=application/gml+xml'></iframe>"
       ],
       "metadata": {},
       "output_type": "display_data",
       "text": [
        "<IPython.core.display.HTML at 0x7f8780456710>"
       ]
      }
     ],
     "prompt_number": 9
    },
    {
     "cell_type": "markdown",
     "metadata": {},
     "source": [
      "***\n",
      "\n",
      "- Retrieve the **global field of 2m  air temperature** for 30 November 2010 at 00 UTC encoded as png image. (Reduction from 3D to 2D)\n",
      "\n",
      "<a href='http://earthserver.ecmwf.int/rasdaman/ows?service=WCS&version=2.0.1&request=GetCoverage&coverageId=temp2m&subset=ansi(\"2010-11-30T00:00\")&format=image/png' target=\"_blank\">http://earthserver.ecmwf.int/rasdaman/ows?service=WCS&version=2.0.1&request=GetCoverage&coverageId=temp2m&subset=ansi(\"2010-11-30T00:00\")&format=image/png</a>"
     ]
    },
    {
     "cell_type": "code",
     "collapsed": false,
     "input": [
      "%%html\n",
      "<iframe width=\"1000\" height=\"400\" src='http://earthserver.ecmwf.int/rasdaman/ows?service=WCS&version=2.0.1&request=GetCoverage&coverageId=temp2m&subset=ansi(\"2010-11-30T00:00\")&format=image/png'></iframe>"
     ],
     "language": "python",
     "metadata": {},
     "outputs": [
      {
       "html": [
        "<iframe width=\"1000\" height=\"400\" src='http://earthserver.ecmwf.int/rasdaman/ows?service=WCS&version=2.0.1&request=GetCoverage&coverageId=temp2m&subset=ansi(\"2010-11-30T00:00\")&format=image/png'></iframe>"
       ],
       "metadata": {},
       "output_type": "display_data",
       "text": [
        "<IPython.core.display.HTML at 0x7f8780456750>"
       ]
      }
     ],
     "prompt_number": 10
    },
    {
     "cell_type": "markdown",
     "metadata": {},
     "source": [
      "***"
     ]
    },
    {
     "cell_type": "heading",
     "level": 3,
     "metadata": {},
     "source": [
      "Trim operation (extent reduction)"
     ]
    },
    {
     "cell_type": "markdown",
     "metadata": {},
     "source": [
      "- Retrieve the **2m  air temperature for Europe** on 15 August 2003 at 12 UTC encoded as XML. (Reduction from 3D to a 2D subset) \n",
      "\n",
      "<a href='http://earthserver.ecmwf.int/rasdaman/ows?service=WCS&version=2.0.1&request=GetCoverage&coverageId=temp2m&subset=Lat(-30.0,65.0)&subset=Long(35.0,80.0)&subset=ansi(\"2010-08-15T00:00\")&format=application/gml+xml' target=\"_blank\">http://earthserver.ecmwf.int/rasdaman/ows?service=WCS&version=2.0.1&request=GetCoverage&coverageId=temp2m&subset=Lat(-30.0,65.0)&subset=Long(35.0,80.0)&subset=ansi(\"2010-08-15T00:00\")&format=application/gml+xml</a>"
     ]
    },
    {
     "cell_type": "code",
     "collapsed": false,
     "input": [
      "%%html\n",
      "<iframe width=\"1000\" height=\"400\" src='http://earthserver.ecmwf.int/rasdaman/ows?service=WCS&version=2.0.1&request=GetCoverage&coverageId=temp2m&subset=Lat(-30.0,65.0)&subset=Long(35.0,80.0)&subset=ansi(\"2010-08-15T00:00\")&format=application/gml+xml'></iframe>"
     ],
     "language": "python",
     "metadata": {},
     "outputs": [
      {
       "html": [
        "<iframe width=\"1000\" height=\"400\" src='http://earthserver.ecmwf.int/rasdaman/ows?service=WCS&version=2.0.1&request=GetCoverage&coverageId=temp2m&subset=Lat(-30.0,65.0)&subset=Long(35.0,80.0)&subset=ansi(\"2010-08-15T00:00\")&format=application/gml+xml'></iframe>"
       ],
       "metadata": {},
       "output_type": "display_data",
       "text": [
        "<IPython.core.display.HTML at 0x7f8780456690>"
       ]
      }
     ],
     "prompt_number": 11
    },
    {
     "cell_type": "markdown",
     "metadata": {},
     "source": [
      "***\n",
      "\n",
      "- Retrieve the **2m  air temperature for Europe** on 15 August 2003 at 12 UTC encoded as netCDF. (Reduction from 3D to a 2D subset)\n",
      "\n",
      "<a href='http://earthserver.ecmwf.int/rasdaman/ows?service=WCS&version=2.0.1&request=GetCoverage&coverageId=temp2m&subset=Lat(-30.0,65.0)&subset=Long(35.0,80.0)&subset=ansi(\"2010-08-15T00:00\")&format=application/netcdf' target=\"_blank\">http://earthserver.ecmwf.int/rasdaman/ows?service=WCS&version=2.0.1&request=GetCoverage&coverageId=temp2m&subset=Lat(-30.0,65.0)&subset=Long(35.0,80.0)&subset=ansi(\"2010-08-15T00:00\")&format=application/netcdf</a>"
     ]
    },
    {
     "cell_type": "code",
     "collapsed": false,
     "input": [
      "#%%html\n",
      "#<iframe width=\"1000\" height=\"100\" src='http://earthserver.ecmwf.int/rasdaman/ows?service=WCS&version=2.0.1&request=GetCoverage&coverageId=temp2m&subset=Lat(-30.0,65.0)&subset=Long(35.0,80.0)&subset=ansi(\"2010-08-15T00:00\")&format=application/netcdf'></iframe>"
     ],
     "language": "python",
     "metadata": {},
     "outputs": [],
     "prompt_number": 16
    },
    {
     "cell_type": "markdown",
     "metadata": {},
     "source": [
      "***"
     ]
    },
    {
     "cell_type": "markdown",
     "metadata": {},
     "source": [
      "You now know how to access and retrieve data from a WCS server using the WCS core requests. The [next tutorial chapter](./02-WCS_python.ipynb) will show you how a WCS request can easily be integrated into a your python processing routine."
     ]
    },
    {
     "cell_type": "markdown",
     "metadata": {},
     "source": [
      "***"
     ]
    }
   ],
   "metadata": {}
  }
 ]
}